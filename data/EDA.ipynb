{
 "cells": [
  {
   "cell_type": "code",
   "execution_count": 1,
   "metadata": {},
   "outputs": [],
   "source": [
    "import pandas as pd "
   ]
  },
  {
   "cell_type": "code",
   "execution_count": 2,
   "metadata": {},
   "outputs": [],
   "source": [
    "df = pd.read_csv(r\"C:\\Users\\oskar\\Documents\\Game\\game_backend\\data\\owid-energy-data.csv\")"
   ]
  },
  {
   "cell_type": "code",
   "execution_count": 5,
   "metadata": {},
   "outputs": [],
   "source": [
    "exclusions = [\n",
    "    \"World\", \"Europe\", \"Asia\", \"Africa\", \"OECD\", \"G20\", \"G7\",\n",
    "    \"Non-OECD\", \"OPEC\", \"Middle East\", \"North America\", \"South America\",\n",
    "    \"Central America\", \"Ember\", \"EIA\", \"EI\", \"Oceania\", \"Lower-middle-income countries\", \"Latin America and Caribbean (Ember)\",\n",
    "    \"Low-income countries\", \"Palestine\", \"Antarctica\", \"High-income countries\", \"Netherlands Antilles\", \"Upper-middle-income countries\"\n",
    "]\n",
    "\n",
    "df_filtered = df[~df['country'].isin(exclusions)]"
   ]
  },
  {
   "cell_type": "code",
   "execution_count": null,
   "metadata": {},
   "outputs": [],
   "source": [
    "df[\"other_ren_wo_biofuel\"] = df['other_renewable_electricity'] - df['biofuel_electricity']\n",
    "df[\"share_other_ren_wo_biofuel\"] = df[\"other_ren_wo_biofuel\"] / df[\"electricity_generation\"]\n"
   ]
  },
  {
   "cell_type": "code",
   "execution_count": 18,
   "metadata": {},
   "outputs": [],
   "source": [
    "df_2020 = df[df['year'] == 2020]"
   ]
  },
  {
   "cell_type": "code",
   "execution_count": 24,
   "metadata": {},
   "outputs": [],
   "source": [
    "df_2020_other = df_2020[df_2020[\"share_other_ren_wo_biofuel\"] >= 0.03]"
   ]
  },
  {
   "cell_type": "code",
   "execution_count": 27,
   "metadata": {},
   "outputs": [
    {
     "data": {
      "text/html": [
       "<div>\n",
       "<style scoped>\n",
       "    .dataframe tbody tr th:only-of-type {\n",
       "        vertical-align: middle;\n",
       "    }\n",
       "\n",
       "    .dataframe tbody tr th {\n",
       "        vertical-align: top;\n",
       "    }\n",
       "\n",
       "    .dataframe thead th {\n",
       "        text-align: right;\n",
       "    }\n",
       "</style>\n",
       "<table border=\"1\" class=\"dataframe\">\n",
       "  <thead>\n",
       "    <tr style=\"text-align: right;\">\n",
       "      <th></th>\n",
       "      <th>country</th>\n",
       "      <th>share_other_ren_wo_biofuel</th>\n",
       "      <th>other_ren_wo_biofuel</th>\n",
       "    </tr>\n",
       "  </thead>\n",
       "  <tbody>\n",
       "    <tr>\n",
       "      <th>4880</th>\n",
       "      <td>Costa Rica</td>\n",
       "      <td>0.144075</td>\n",
       "      <td>1.69</td>\n",
       "    </tr>\n",
       "    <tr>\n",
       "      <th>6260</th>\n",
       "      <td>El Salvador</td>\n",
       "      <td>0.246445</td>\n",
       "      <td>1.56</td>\n",
       "    </tr>\n",
       "    <tr>\n",
       "      <th>8455</th>\n",
       "      <td>Guadeloupe</td>\n",
       "      <td>0.070588</td>\n",
       "      <td>0.12</td>\n",
       "    </tr>\n",
       "    <tr>\n",
       "      <th>9201</th>\n",
       "      <td>Iceland</td>\n",
       "      <td>0.315511</td>\n",
       "      <td>5.96</td>\n",
       "    </tr>\n",
       "    <tr>\n",
       "      <th>9449</th>\n",
       "      <td>Indonesia</td>\n",
       "      <td>0.053355</td>\n",
       "      <td>15.57</td>\n",
       "    </tr>\n",
       "    <tr>\n",
       "      <th>10362</th>\n",
       "      <td>Kenya</td>\n",
       "      <td>0.436207</td>\n",
       "      <td>5.06</td>\n",
       "    </tr>\n",
       "    <tr>\n",
       "      <th>13491</th>\n",
       "      <td>New Zealand</td>\n",
       "      <td>0.180623</td>\n",
       "      <td>7.83</td>\n",
       "    </tr>\n",
       "    <tr>\n",
       "      <th>13535</th>\n",
       "      <td>Nicaragua</td>\n",
       "      <td>0.203166</td>\n",
       "      <td>0.77</td>\n",
       "    </tr>\n",
       "    <tr>\n",
       "      <th>15642</th>\n",
       "      <td>Papua New Guinea</td>\n",
       "      <td>0.095465</td>\n",
       "      <td>0.40</td>\n",
       "    </tr>\n",
       "    <tr>\n",
       "      <th>16093</th>\n",
       "      <td>Philippines</td>\n",
       "      <td>0.105749</td>\n",
       "      <td>10.76</td>\n",
       "    </tr>\n",
       "    <tr>\n",
       "      <th>19652</th>\n",
       "      <td>Turkey</td>\n",
       "      <td>0.030861</td>\n",
       "      <td>9.32</td>\n",
       "    </tr>\n",
       "  </tbody>\n",
       "</table>\n",
       "</div>"
      ],
      "text/plain": [
       "                country  share_other_ren_wo_biofuel  other_ren_wo_biofuel\n",
       "4880         Costa Rica                    0.144075                  1.69\n",
       "6260        El Salvador                    0.246445                  1.56\n",
       "8455         Guadeloupe                    0.070588                  0.12\n",
       "9201            Iceland                    0.315511                  5.96\n",
       "9449          Indonesia                    0.053355                 15.57\n",
       "10362             Kenya                    0.436207                  5.06\n",
       "13491       New Zealand                    0.180623                  7.83\n",
       "13535         Nicaragua                    0.203166                  0.77\n",
       "15642  Papua New Guinea                    0.095465                  0.40\n",
       "16093       Philippines                    0.105749                 10.76\n",
       "19652            Turkey                    0.030861                  9.32"
      ]
     },
     "execution_count": 27,
     "metadata": {},
     "output_type": "execute_result"
    }
   ],
   "source": [
    "df_2020_other[['country', 'share_other_ren_wo_biofuel', 'other_ren_wo_biofuel']]\n"
   ]
  }
 ],
 "metadata": {
  "kernelspec": {
   "display_name": "Python 3",
   "language": "python",
   "name": "python3"
  },
  "language_info": {
   "codemirror_mode": {
    "name": "ipython",
    "version": 3
   },
   "file_extension": ".py",
   "mimetype": "text/x-python",
   "name": "python",
   "nbconvert_exporter": "python",
   "pygments_lexer": "ipython3",
   "version": "3.13.0"
  }
 },
 "nbformat": 4,
 "nbformat_minor": 2
}
